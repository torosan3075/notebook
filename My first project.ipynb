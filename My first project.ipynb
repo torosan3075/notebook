{
    "cells": [
        {
            "cell_type": "markdown",
            "metadata": {},
            "source": "#Description - A case study of COVID-19 in Italy"
        },
        {
            "cell_type": "code",
            "execution_count": 1,
            "metadata": {},
            "outputs": [
                {
                    "data": {
                        "text/html": "<div>\n<style scoped>\n    .dataframe tbody tr th:only-of-type {\n        vertical-align: middle;\n    }\n\n    .dataframe tbody tr th {\n        vertical-align: top;\n    }\n\n    .dataframe thead th {\n        text-align: right;\n    }\n</style>\n<table border=\"1\" class=\"dataframe\">\n  <thead>\n    <tr style=\"text-align: right;\">\n      <th></th>\n      <th>data</th>\n      <th>stato</th>\n      <th>ricoverati_con_sintomi</th>\n      <th>terapia_intensiva</th>\n      <th>totale_ospedalizzati</th>\n      <th>isolamento_domiciliare</th>\n      <th>totale_positivi</th>\n      <th>variazione_totale_positivi</th>\n      <th>nuovi_positivi</th>\n      <th>dimessi_guariti</th>\n      <th>deceduti</th>\n      <th>casi_da_sospetto_diagnostico</th>\n      <th>casi_da_screening</th>\n      <th>totale_casi</th>\n      <th>tamponi</th>\n      <th>casi_testati</th>\n      <th>note</th>\n      <th>ingressi_terapia_intensiva</th>\n      <th>note_test</th>\n      <th>note_casi</th>\n    </tr>\n  </thead>\n  <tbody>\n    <tr>\n      <th>0</th>\n      <td>2020-02-24T18:00:00</td>\n      <td>ITA</td>\n      <td>101</td>\n      <td>26</td>\n      <td>127</td>\n      <td>94</td>\n      <td>221</td>\n      <td>0</td>\n      <td>221</td>\n      <td>1</td>\n      <td>7</td>\n      <td>NaN</td>\n      <td>NaN</td>\n      <td>229</td>\n      <td>4324</td>\n      <td>NaN</td>\n      <td>NaN</td>\n      <td>NaN</td>\n      <td>NaN</td>\n      <td>NaN</td>\n    </tr>\n    <tr>\n      <th>1</th>\n      <td>2020-02-25T18:00:00</td>\n      <td>ITA</td>\n      <td>114</td>\n      <td>35</td>\n      <td>150</td>\n      <td>162</td>\n      <td>311</td>\n      <td>90</td>\n      <td>93</td>\n      <td>1</td>\n      <td>10</td>\n      <td>NaN</td>\n      <td>NaN</td>\n      <td>322</td>\n      <td>8623</td>\n      <td>NaN</td>\n      <td>NaN</td>\n      <td>NaN</td>\n      <td>NaN</td>\n      <td>NaN</td>\n    </tr>\n    <tr>\n      <th>2</th>\n      <td>2020-02-26T18:00:00</td>\n      <td>ITA</td>\n      <td>128</td>\n      <td>36</td>\n      <td>164</td>\n      <td>221</td>\n      <td>385</td>\n      <td>74</td>\n      <td>78</td>\n      <td>3</td>\n      <td>12</td>\n      <td>NaN</td>\n      <td>NaN</td>\n      <td>400</td>\n      <td>9587</td>\n      <td>NaN</td>\n      <td>NaN</td>\n      <td>NaN</td>\n      <td>NaN</td>\n      <td>NaN</td>\n    </tr>\n    <tr>\n      <th>3</th>\n      <td>2020-02-27T18:00:00</td>\n      <td>ITA</td>\n      <td>248</td>\n      <td>56</td>\n      <td>304</td>\n      <td>284</td>\n      <td>588</td>\n      <td>203</td>\n      <td>250</td>\n      <td>45</td>\n      <td>17</td>\n      <td>NaN</td>\n      <td>NaN</td>\n      <td>650</td>\n      <td>12014</td>\n      <td>NaN</td>\n      <td>NaN</td>\n      <td>NaN</td>\n      <td>NaN</td>\n      <td>NaN</td>\n    </tr>\n    <tr>\n      <th>4</th>\n      <td>2020-02-28T18:00:00</td>\n      <td>ITA</td>\n      <td>345</td>\n      <td>64</td>\n      <td>409</td>\n      <td>412</td>\n      <td>821</td>\n      <td>233</td>\n      <td>238</td>\n      <td>46</td>\n      <td>21</td>\n      <td>NaN</td>\n      <td>NaN</td>\n      <td>888</td>\n      <td>15695</td>\n      <td>NaN</td>\n      <td>NaN</td>\n      <td>NaN</td>\n      <td>NaN</td>\n      <td>NaN</td>\n    </tr>\n  </tbody>\n</table>\n</div>",
                        "text/plain": "                  data stato  ricoverati_con_sintomi  terapia_intensiva  \\\n0  2020-02-24T18:00:00   ITA                     101                 26   \n1  2020-02-25T18:00:00   ITA                     114                 35   \n2  2020-02-26T18:00:00   ITA                     128                 36   \n3  2020-02-27T18:00:00   ITA                     248                 56   \n4  2020-02-28T18:00:00   ITA                     345                 64   \n\n   totale_ospedalizzati  isolamento_domiciliare  totale_positivi  \\\n0                   127                      94              221   \n1                   150                     162              311   \n2                   164                     221              385   \n3                   304                     284              588   \n4                   409                     412              821   \n\n   variazione_totale_positivi  nuovi_positivi  dimessi_guariti  deceduti  \\\n0                           0             221                1         7   \n1                          90              93                1        10   \n2                          74              78                3        12   \n3                         203             250               45        17   \n4                         233             238               46        21   \n\n   casi_da_sospetto_diagnostico  casi_da_screening  totale_casi  tamponi  \\\n0                           NaN                NaN          229     4324   \n1                           NaN                NaN          322     8623   \n2                           NaN                NaN          400     9587   \n3                           NaN                NaN          650    12014   \n4                           NaN                NaN          888    15695   \n\n   casi_testati note  ingressi_terapia_intensiva  note_test  note_casi  \n0           NaN  NaN                         NaN        NaN        NaN  \n1           NaN  NaN                         NaN        NaN        NaN  \n2           NaN  NaN                         NaN        NaN        NaN  \n3           NaN  NaN                         NaN        NaN        NaN  \n4           NaN  NaN                         NaN        NaN        NaN  "
                    },
                    "execution_count": 1,
                    "metadata": {},
                    "output_type": "execute_result"
                }
            ],
            "source": "# The code was removed by Watson Studio for sharing."
        },
        {
            "cell_type": "code",
            "execution_count": null,
            "metadata": {},
            "outputs": [],
            "source": ""
        }
    ],
    "metadata": {
        "kernelspec": {
            "display_name": "Python 3.7",
            "language": "python",
            "name": "python3"
        },
        "language_info": {
            "codemirror_mode": {
                "name": "ipython",
                "version": 3
            },
            "file_extension": ".py",
            "mimetype": "text/x-python",
            "name": "python",
            "nbconvert_exporter": "python",
            "pygments_lexer": "ipython3",
            "version": "3.7.9"
        }
    },
    "nbformat": 4,
    "nbformat_minor": 1
}